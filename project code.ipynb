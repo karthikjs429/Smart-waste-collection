{
 "cells": [
  {
   "cell_type": "code",
   "execution_count": 0,
   "metadata": {
    "application/vnd.databricks.v1+cell": {
     "cellMetadata": {
      "byteLimit": 2048000,
      "rowLimit": 10000
     },
     "inputWidgets": {},
     "nuid": "4f638b68-0bf2-4869-bb04-6ac8f8bbf2d5",
     "showTitle": false,
     "tableResultSettingsMap": {},
     "title": ""
    }
   },
   "outputs": [],
   "source": [
    "from pyspark.sql.functions import col, to_date\n",
    "\n",
    "# Load Bronze tables\n",
    "df_bin_bronze = spark.table(\"bronze.bin_metadata\")\n",
    "df_logs_bronze = spark.table(\"bronze.collection_logs\")\n",
    "\n",
    "# Silver - bin_metadata\n",
    "df_bin_silver = df_bin_bronze \\\n",
    "    .withColumn(\"latitude\", col(\"latitude\").cast(\"double\")) \\\n",
    "    .withColumn(\"longitude\", col(\"longitude\").cast(\"double\")) \\\n",
    "    .withColumn(\"capacity_liters\", col(\"capacity_liters\").cast(\"double\")) \\\n",
    "    .withColumn(\"installation_date\", to_date(\"installation_date\", \"yyyy-MM-dd\"))\n",
    "\n",
    "# Silver - collection_logs\n",
    "df_logs_silver = df_logs_bronze \\\n",
    "    .withColumn(\"fill_level_percent\", col(\"fill_level_percent\").cast(\"double\")) \\\n",
    "    .withColumn(\"latitude\", col(\"latitude\").cast(\"double\")) \\\n",
    "    .withColumn(\"longitude\", col(\"longitude\").cast(\"double\")) \\\n",
    "    .withColumn(\"date\", to_date(\"date\", \"yyyy-MM-dd\"))\n",
    "\n",
    "# Save with schema overwrite\n",
    "df_bin_silver.write.format(\"delta\").mode(\"overwrite\").option(\"overwriteSchema\", \"true\").saveAsTable(\"silver.bin_metadata\")\n",
    "\n",
    "df_logs_silver.write.format(\"delta\").mode(\"overwrite\").option(\"overwriteSchema\", \"true\").saveAsTable(\"silver.collection_logs\")\n"
   ]
  },
  {
   "cell_type": "code",
   "execution_count": 0,
   "metadata": {
    "application/vnd.databricks.v1+cell": {
     "cellMetadata": {
      "byteLimit": 2048000,
      "rowLimit": 10000
     },
     "inputWidgets": {},
     "nuid": "48321918-9a1e-4fbc-91f6-28bf72fc7700",
     "showTitle": false,
     "tableResultSettingsMap": {},
     "title": ""
    }
   },
   "outputs": [],
   "source": [
    "spark.sql(\"CREATE SCHEMA IF NOT EXISTS bronze\");# Load raw CSVs into DataFrames\n",
    "\n",
    "df_bin_raw = spark.read.option(\"header\", True).csv(\"/Volumes/project/project/project/bin_metadata.csv\")\n",
    "df_logs_raw = spark.read.option(\"header\", True).csv(\"/Volumes/project/project/project/collection_logs.csv\")\n",
    "\n",
    "# Save as Bronze Delta Tables\n",
    "df_bin_raw.write.format(\"delta\").mode(\"overwrite\").saveAsTable(\"bronze.bin_metadata\")\n",
    "df_logs_raw.write.format(\"delta\").mode(\"overwrite\").saveAsTable(\"bronze.collection_logs\")\n"
   ]
  }
 ],
 "metadata": {
  "application/vnd.databricks.v1+notebook": {
   "computePreferences": null,
   "dashboards": [],
   "environmentMetadata": {
    "base_environment": "",
    "environment_version": "2"
   },
   "inputWidgetPreferences": null,
   "language": "python",
   "notebookMetadata": {
    "pythonIndentUnit": 4
   },
   "notebookName": "project code",
   "widgets": {}
  },
  "language_info": {
   "name": "python"
  }
 },
 "nbformat": 4,
 "nbformat_minor": 0
}