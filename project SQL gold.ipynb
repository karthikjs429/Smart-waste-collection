{
 "cells": [
  {
   "cell_type": "code",
   "execution_count": 0,
   "metadata": {
    "application/vnd.databricks.v1+cell": {
     "cellMetadata": {
      "byteLimit": 2048000,
      "rowLimit": 10000
     },
     "inputWidgets": {},
     "nuid": "d8e8fe44-6d22-4895-bc22-d13540dc93d9",
     "showTitle": false,
     "tableResultSettingsMap": {},
     "title": ""
    }
   },
   "outputs": [
    {
     "output_type": "display_data",
     "data": {
      "text/html": [
       "<style scoped>\n",
       "  .table-result-container {\n",
       "    max-height: 300px;\n",
       "    overflow: auto;\n",
       "  }\n",
       "  table, th, td {\n",
       "    border: 1px solid black;\n",
       "    border-collapse: collapse;\n",
       "  }\n",
       "  th, td {\n",
       "    padding: 5px;\n",
       "  }\n",
       "  th {\n",
       "    text-align: left;\n",
       "  }\n",
       "</style><div class='table-result-container'><table class='table-result'><thead style='background-color: white'><tr><th>bin_id</th><th>location</th><th>bin_type</th><th>capacity_liters</th><th>installation_date</th><th>fill_level_percent</th><th>last_collected_date</th><th>zone</th></tr></thead><tbody><tr><td>BIN_001</td><td>Zone C</td><td>commercial</td><td>240.0</td><td>2023-05-01</td><td>66.54</td><td>2024-05-10</td><td>Zone C</td></tr><tr><td>BIN_002</td><td>Zone D</td><td>residential</td><td>120.0</td><td>2023-04-26</td><td>29.66</td><td>2024-05-10</td><td>Zone D</td></tr><tr><td>BIN_003</td><td>Zone A</td><td>commercial</td><td>360.0</td><td>2023-08-21</td><td>14.15</td><td>2024-05-10</td><td>Zone A</td></tr><tr><td>BIN_004</td><td>Zone C</td><td>commercial</td><td>120.0</td><td>2023-09-16</td><td>16.68</td><td>2024-05-10</td><td>Zone C</td></tr><tr><td>BIN_005</td><td>Zone C</td><td>commercial</td><td>240.0</td><td>2023-12-25</td><td>15.8</td><td>2024-05-10</td><td>Zone C</td></tr><tr><td>BIN_006</td><td>Zone D</td><td>public</td><td>240.0</td><td>2023-07-17</td><td>40.64</td><td>2024-05-10</td><td>Zone D</td></tr><tr><td>BIN_007</td><td>Zone A</td><td>public</td><td>360.0</td><td>2023-05-17</td><td>85.43</td><td>2024-05-10</td><td>Zone A</td></tr><tr><td>BIN_008</td><td>Zone A</td><td>residential</td><td>240.0</td><td>2023-11-14</td><td>81.02</td><td>2024-05-10</td><td>Zone A</td></tr><tr><td>BIN_009</td><td>Zone C</td><td>residential</td><td>120.0</td><td>2023-06-14</td><td>29.82</td><td>2024-05-10</td><td>Zone C</td></tr><tr><td>BIN_010</td><td>Zone B</td><td>public</td><td>360.0</td><td>2023-08-13</td><td>12.94</td><td>2024-05-10</td><td>Zone B</td></tr><tr><td>BIN_011</td><td>Zone C</td><td>commercial</td><td>120.0</td><td>2023-11-03</td><td>40.67</td><td>2024-05-10</td><td>Zone C</td></tr><tr><td>BIN_012</td><td>Zone C</td><td>residential</td><td>120.0</td><td>2023-08-22</td><td>67.56</td><td>2024-05-10</td><td>Zone C</td></tr><tr><td>BIN_013</td><td>Zone C</td><td>public</td><td>240.0</td><td>2023-06-21</td><td>80.81</td><td>2024-05-10</td><td>Zone C</td></tr><tr><td>BIN_014</td><td>Zone C</td><td>public</td><td>240.0</td><td>2023-06-01</td><td>52.56</td><td>2024-05-10</td><td>Zone C</td></tr><tr><td>BIN_015</td><td>Zone D</td><td>public</td><td>240.0</td><td>2023-11-11</td><td>90.23</td><td>2024-05-10</td><td>Zone D</td></tr><tr><td>BIN_016</td><td>Zone A</td><td>commercial</td><td>240.0</td><td>2023-06-09</td><td>31.5</td><td>2024-05-10</td><td>Zone A</td></tr><tr><td>BIN_017</td><td>Zone D</td><td>public</td><td>240.0</td><td>2023-04-06</td><td>66.03</td><td>2024-05-10</td><td>Zone D</td></tr><tr><td>BIN_018</td><td>Zone D</td><td>public</td><td>360.0</td><td>2023-08-21</td><td>63.18</td><td>2024-05-10</td><td>Zone D</td></tr><tr><td>BIN_019</td><td>Zone D</td><td>public</td><td>120.0</td><td>2023-06-29</td><td>35.64</td><td>2024-05-10</td><td>Zone D</td></tr><tr><td>BIN_020</td><td>Zone C</td><td>public</td><td>120.0</td><td>2023-04-23</td><td>45.71</td><td>2024-05-10</td><td>Zone C</td></tr><tr><td>BIN_021</td><td>Zone B</td><td>residential</td><td>120.0</td><td>2023-11-14</td><td>35.61</td><td>2024-05-10</td><td>Zone B</td></tr><tr><td>BIN_022</td><td>Zone A</td><td>residential</td><td>120.0</td><td>2023-02-21</td><td>61.73</td><td>2024-05-10</td><td>Zone A</td></tr><tr><td>BIN_023</td><td>Zone B</td><td>public</td><td>240.0</td><td>2023-09-25</td><td>50.55</td><td>2024-05-10</td><td>Zone B</td></tr><tr><td>BIN_024</td><td>Zone D</td><td>commercial</td><td>120.0</td><td>2023-10-22</td><td>75.69</td><td>2024-05-10</td><td>Zone D</td></tr><tr><td>BIN_025</td><td>Zone D</td><td>residential</td><td>360.0</td><td>2023-04-23</td><td>70.71</td><td>2024-05-10</td><td>Zone D</td></tr><tr><td>BIN_026</td><td>Zone B</td><td>public</td><td>360.0</td><td>2023-04-11</td><td>10.19</td><td>2024-05-10</td><td>Zone B</td></tr><tr><td>BIN_027</td><td>Zone B</td><td>residential</td><td>120.0</td><td>2023-04-23</td><td>69.88</td><td>2024-05-10</td><td>Zone B</td></tr><tr><td>BIN_028</td><td>Zone B</td><td>residential</td><td>120.0</td><td>2023-03-22</td><td>63.67</td><td>2024-05-10</td><td>Zone B</td></tr><tr><td>BIN_029</td><td>Zone D</td><td>commercial</td><td>360.0</td><td>2023-07-06</td><td>38.9</td><td>2024-05-10</td><td>Zone D</td></tr><tr><td>BIN_030</td><td>Zone D</td><td>public</td><td>360.0</td><td>2023-04-23</td><td>68.18</td><td>2024-05-10</td><td>Zone D</td></tr><tr><td>BIN_031</td><td>Zone A</td><td>public</td><td>240.0</td><td>2023-01-02</td><td>22.5</td><td>2024-05-10</td><td>Zone A</td></tr><tr><td>BIN_032</td><td>Zone A</td><td>commercial</td><td>360.0</td><td>2023-05-10</td><td>67.41</td><td>2024-05-10</td><td>Zone A</td></tr><tr><td>BIN_033</td><td>Zone D</td><td>commercial</td><td>240.0</td><td>2023-08-08</td><td>99.21</td><td>2024-05-10</td><td>Zone D</td></tr><tr><td>BIN_034</td><td>Zone B</td><td>public</td><td>240.0</td><td>2023-02-23</td><td>57.92</td><td>2024-05-10</td><td>Zone B</td></tr><tr><td>BIN_035</td><td>Zone B</td><td>public</td><td>240.0</td><td>2023-12-09</td><td>91.91</td><td>2024-05-10</td><td>Zone B</td></tr><tr><td>BIN_036</td><td>Zone A</td><td>commercial</td><td>240.0</td><td>2023-08-12</td><td>51.99</td><td>2024-05-10</td><td>Zone A</td></tr><tr><td>BIN_037</td><td>Zone D</td><td>residential</td><td>240.0</td><td>2023-08-13</td><td>86.67</td><td>2024-05-10</td><td>Zone D</td></tr><tr><td>BIN_038</td><td>Zone A</td><td>residential</td><td>120.0</td><td>2023-05-06</td><td>87.56</td><td>2024-05-10</td><td>Zone A</td></tr><tr><td>BIN_039</td><td>Zone A</td><td>commercial</td><td>360.0</td><td>2023-05-10</td><td>50.51</td><td>2024-05-10</td><td>Zone A</td></tr><tr><td>BIN_040</td><td>Zone C</td><td>residential</td><td>240.0</td><td>2023-02-22</td><td>90.07</td><td>2024-05-10</td><td>Zone C</td></tr><tr><td>BIN_041</td><td>Zone C</td><td>commercial</td><td>360.0</td><td>2023-06-21</td><td>57.32</td><td>2024-05-10</td><td>Zone C</td></tr><tr><td>BIN_042</td><td>Zone C</td><td>residential</td><td>360.0</td><td>2023-08-06</td><td>14.03</td><td>2024-05-10</td><td>Zone C</td></tr><tr><td>BIN_043</td><td>Zone B</td><td>residential</td><td>240.0</td><td>2023-06-09</td><td>56.55</td><td>2024-05-10</td><td>Zone B</td></tr><tr><td>BIN_044</td><td>Zone D</td><td>public</td><td>120.0</td><td>2023-07-17</td><td>19.11</td><td>2024-05-10</td><td>Zone D</td></tr><tr><td>BIN_045</td><td>Zone D</td><td>public</td><td>240.0</td><td>2023-09-04</td><td>62.22</td><td>2024-05-10</td><td>Zone D</td></tr><tr><td>BIN_046</td><td>Zone D</td><td>residential</td><td>120.0</td><td>2023-11-20</td><td>22.22</td><td>2024-05-10</td><td>Zone D</td></tr><tr><td>BIN_047</td><td>Zone D</td><td>residential</td><td>360.0</td><td>2023-07-22</td><td>38.19</td><td>2024-05-10</td><td>Zone D</td></tr><tr><td>BIN_048</td><td>Zone C</td><td>public</td><td>120.0</td><td>2023-07-03</td><td>85.19</td><td>2024-05-10</td><td>Zone C</td></tr><tr><td>BIN_049</td><td>Zone B</td><td>public</td><td>120.0</td><td>2023-05-03</td><td>49.97</td><td>2024-05-10</td><td>Zone B</td></tr><tr><td>BIN_050</td><td>Zone B</td><td>public</td><td>120.0</td><td>2023-09-12</td><td>64.62</td><td>2024-05-10</td><td>Zone B</td></tr></tbody></table></div>"
      ]
     },
     "metadata": {
      "application/vnd.databricks.v1+output": {
       "addedWidgets": {},
       "aggData": [],
       "aggError": "",
       "aggOverflow": false,
       "aggSchema": [],
       "aggSeriesLimitReached": false,
       "aggType": "",
       "arguments": {},
       "columnCustomDisplayInfos": {},
       "data": [
        [
         "BIN_001",
         "Zone C",
         "commercial",
         240.0,
         "2023-05-01",
         66.54,
         "2024-05-10",
         "Zone C"
        ],
        [
         "BIN_002",
         "Zone D",
         "residential",
         120.0,
         "2023-04-26",
         29.66,
         "2024-05-10",
         "Zone D"
        ],
        [
         "BIN_003",
         "Zone A",
         "commercial",
         360.0,
         "2023-08-21",
         14.15,
         "2024-05-10",
         "Zone A"
        ],
        [
         "BIN_004",
         "Zone C",
         "commercial",
         120.0,
         "2023-09-16",
         16.68,
         "2024-05-10",
         "Zone C"
        ],
        [
         "BIN_005",
         "Zone C",
         "commercial",
         240.0,
         "2023-12-25",
         15.8,
         "2024-05-10",
         "Zone C"
        ],
        [
         "BIN_006",
         "Zone D",
         "public",
         240.0,
         "2023-07-17",
         40.64,
         "2024-05-10",
         "Zone D"
        ],
        [
         "BIN_007",
         "Zone A",
         "public",
         360.0,
         "2023-05-17",
         85.43,
         "2024-05-10",
         "Zone A"
        ],
        [
         "BIN_008",
         "Zone A",
         "residential",
         240.0,
         "2023-11-14",
         81.02,
         "2024-05-10",
         "Zone A"
        ],
        [
         "BIN_009",
         "Zone C",
         "residential",
         120.0,
         "2023-06-14",
         29.82,
         "2024-05-10",
         "Zone C"
        ],
        [
         "BIN_010",
         "Zone B",
         "public",
         360.0,
         "2023-08-13",
         12.94,
         "2024-05-10",
         "Zone B"
        ],
        [
         "BIN_011",
         "Zone C",
         "commercial",
         120.0,
         "2023-11-03",
         40.67,
         "2024-05-10",
         "Zone C"
        ],
        [
         "BIN_012",
         "Zone C",
         "residential",
         120.0,
         "2023-08-22",
         67.56,
         "2024-05-10",
         "Zone C"
        ],
        [
         "BIN_013",
         "Zone C",
         "public",
         240.0,
         "2023-06-21",
         80.81,
         "2024-05-10",
         "Zone C"
        ],
        [
         "BIN_014",
         "Zone C",
         "public",
         240.0,
         "2023-06-01",
         52.56,
         "2024-05-10",
         "Zone C"
        ],
        [
         "BIN_015",
         "Zone D",
         "public",
         240.0,
         "2023-11-11",
         90.23,
         "2024-05-10",
         "Zone D"
        ],
        [
         "BIN_016",
         "Zone A",
         "commercial",
         240.0,
         "2023-06-09",
         31.5,
         "2024-05-10",
         "Zone A"
        ],
        [
         "BIN_017",
         "Zone D",
         "public",
         240.0,
         "2023-04-06",
         66.03,
         "2024-05-10",
         "Zone D"
        ],
        [
         "BIN_018",
         "Zone D",
         "public",
         360.0,
         "2023-08-21",
         63.18,
         "2024-05-10",
         "Zone D"
        ],
        [
         "BIN_019",
         "Zone D",
         "public",
         120.0,
         "2023-06-29",
         35.64,
         "2024-05-10",
         "Zone D"
        ],
        [
         "BIN_020",
         "Zone C",
         "public",
         120.0,
         "2023-04-23",
         45.71,
         "2024-05-10",
         "Zone C"
        ],
        [
         "BIN_021",
         "Zone B",
         "residential",
         120.0,
         "2023-11-14",
         35.61,
         "2024-05-10",
         "Zone B"
        ],
        [
         "BIN_022",
         "Zone A",
         "residential",
         120.0,
         "2023-02-21",
         61.73,
         "2024-05-10",
         "Zone A"
        ],
        [
         "BIN_023",
         "Zone B",
         "public",
         240.0,
         "2023-09-25",
         50.55,
         "2024-05-10",
         "Zone B"
        ],
        [
         "BIN_024",
         "Zone D",
         "commercial",
         120.0,
         "2023-10-22",
         75.69,
         "2024-05-10",
         "Zone D"
        ],
        [
         "BIN_025",
         "Zone D",
         "residential",
         360.0,
         "2023-04-23",
         70.71,
         "2024-05-10",
         "Zone D"
        ],
        [
         "BIN_026",
         "Zone B",
         "public",
         360.0,
         "2023-04-11",
         10.19,
         "2024-05-10",
         "Zone B"
        ],
        [
         "BIN_027",
         "Zone B",
         "residential",
         120.0,
         "2023-04-23",
         69.88,
         "2024-05-10",
         "Zone B"
        ],
        [
         "BIN_028",
         "Zone B",
         "residential",
         120.0,
         "2023-03-22",
         63.67,
         "2024-05-10",
         "Zone B"
        ],
        [
         "BIN_029",
         "Zone D",
         "commercial",
         360.0,
         "2023-07-06",
         38.9,
         "2024-05-10",
         "Zone D"
        ],
        [
         "BIN_030",
         "Zone D",
         "public",
         360.0,
         "2023-04-23",
         68.18,
         "2024-05-10",
         "Zone D"
        ],
        [
         "BIN_031",
         "Zone A",
         "public",
         240.0,
         "2023-01-02",
         22.5,
         "2024-05-10",
         "Zone A"
        ],
        [
         "BIN_032",
         "Zone A",
         "commercial",
         360.0,
         "2023-05-10",
         67.41,
         "2024-05-10",
         "Zone A"
        ],
        [
         "BIN_033",
         "Zone D",
         "commercial",
         240.0,
         "2023-08-08",
         99.21,
         "2024-05-10",
         "Zone D"
        ],
        [
         "BIN_034",
         "Zone B",
         "public",
         240.0,
         "2023-02-23",
         57.92,
         "2024-05-10",
         "Zone B"
        ],
        [
         "BIN_035",
         "Zone B",
         "public",
         240.0,
         "2023-12-09",
         91.91,
         "2024-05-10",
         "Zone B"
        ],
        [
         "BIN_036",
         "Zone A",
         "commercial",
         240.0,
         "2023-08-12",
         51.99,
         "2024-05-10",
         "Zone A"
        ],
        [
         "BIN_037",
         "Zone D",
         "residential",
         240.0,
         "2023-08-13",
         86.67,
         "2024-05-10",
         "Zone D"
        ],
        [
         "BIN_038",
         "Zone A",
         "residential",
         120.0,
         "2023-05-06",
         87.56,
         "2024-05-10",
         "Zone A"
        ],
        [
         "BIN_039",
         "Zone A",
         "commercial",
         360.0,
         "2023-05-10",
         50.51,
         "2024-05-10",
         "Zone A"
        ],
        [
         "BIN_040",
         "Zone C",
         "residential",
         240.0,
         "2023-02-22",
         90.07,
         "2024-05-10",
         "Zone C"
        ],
        [
         "BIN_041",
         "Zone C",
         "commercial",
         360.0,
         "2023-06-21",
         57.32,
         "2024-05-10",
         "Zone C"
        ],
        [
         "BIN_042",
         "Zone C",
         "residential",
         360.0,
         "2023-08-06",
         14.03,
         "2024-05-10",
         "Zone C"
        ],
        [
         "BIN_043",
         "Zone B",
         "residential",
         240.0,
         "2023-06-09",
         56.55,
         "2024-05-10",
         "Zone B"
        ],
        [
         "BIN_044",
         "Zone D",
         "public",
         120.0,
         "2023-07-17",
         19.11,
         "2024-05-10",
         "Zone D"
        ],
        [
         "BIN_045",
         "Zone D",
         "public",
         240.0,
         "2023-09-04",
         62.22,
         "2024-05-10",
         "Zone D"
        ],
        [
         "BIN_046",
         "Zone D",
         "residential",
         120.0,
         "2023-11-20",
         22.22,
         "2024-05-10",
         "Zone D"
        ],
        [
         "BIN_047",
         "Zone D",
         "residential",
         360.0,
         "2023-07-22",
         38.19,
         "2024-05-10",
         "Zone D"
        ],
        [
         "BIN_048",
         "Zone C",
         "public",
         120.0,
         "2023-07-03",
         85.19,
         "2024-05-10",
         "Zone C"
        ],
        [
         "BIN_049",
         "Zone B",
         "public",
         120.0,
         "2023-05-03",
         49.97,
         "2024-05-10",
         "Zone B"
        ],
        [
         "BIN_050",
         "Zone B",
         "public",
         120.0,
         "2023-09-12",
         64.62,
         "2024-05-10",
         "Zone B"
        ]
       ],
       "datasetInfos": [
        {
         "name": "_sqldf",
         "schema": {
          "fields": [
           {
            "metadata": {},
            "name": "bin_id",
            "nullable": true,
            "type": "string"
           },
           {
            "metadata": {},
            "name": "location",
            "nullable": true,
            "type": "string"
           },
           {
            "metadata": {},
            "name": "bin_type",
            "nullable": true,
            "type": "string"
           },
           {
            "metadata": {},
            "name": "capacity_liters",
            "nullable": true,
            "type": "double"
           },
           {
            "metadata": {},
            "name": "installation_date",
            "nullable": true,
            "type": "date"
           },
           {
            "metadata": {},
            "name": "fill_level_percent",
            "nullable": true,
            "type": "double"
           },
           {
            "metadata": {},
            "name": "last_collected_date",
            "nullable": true,
            "type": "date"
           },
           {
            "metadata": {},
            "name": "zone",
            "nullable": true,
            "type": "string"
           }
          ],
          "type": "struct"
         },
         "tableIdentifier": null,
         "typeStr": "pyspark.sql.connect.dataframe.DataFrame"
        }
       ],
       "dbfsResultPath": null,
       "isJsonSchema": true,
       "metadata": {
        "createTempViewForImplicitDf": true,
        "dataframeName": "_sqldf",
        "executionCount": 55
       },
       "overflow": false,
       "plotOptions": {
        "customPlotOptions": {},
        "displayType": "table",
        "pivotAggregation": null,
        "pivotColumns": null,
        "xColumns": null,
        "yColumns": null
       },
       "removedWidgets": [],
       "schema": [
        {
         "metadata": "{}",
         "name": "bin_id",
         "type": "\"string\""
        },
        {
         "metadata": "{}",
         "name": "location",
         "type": "\"string\""
        },
        {
         "metadata": "{}",
         "name": "bin_type",
         "type": "\"string\""
        },
        {
         "metadata": "{}",
         "name": "capacity_liters",
         "type": "\"double\""
        },
        {
         "metadata": "{}",
         "name": "installation_date",
         "type": "\"date\""
        },
        {
         "metadata": "{}",
         "name": "fill_level_percent",
         "type": "\"double\""
        },
        {
         "metadata": "{}",
         "name": "last_collected_date",
         "type": "\"date\""
        },
        {
         "metadata": "{}",
         "name": "zone",
         "type": "\"string\""
        }
       ],
       "type": "table"
      }
     },
     "output_type": "display_data"
    }
   ],
   "source": [
    "CREATE OR REPLACE VIEW project.gold.bin_enriched_status AS\n",
    "SELECT\n",
    "    m.bin_id,\n",
    "    m.location,\n",
    "    m.bin_type,\n",
    "    m.capacity_liters,\n",
    "    m.installation_date,\n",
    "    l.fill_level_percent,\n",
    "    l.date AS last_collected_date,\n",
    "    l.zone\n",
    "FROM silver.bin_metadata m\n",
    "LEFT JOIN project.gold.latest_bin_status l\n",
    "  ON m.bin_id = l.bin_id;\n",
    "\n",
    "SELECT * FROM project.gold.bin_enriched_status;"
   ]
  },
  {
   "cell_type": "code",
   "execution_count": 0,
   "metadata": {
    "application/vnd.databricks.v1+cell": {
     "cellMetadata": {
      "byteLimit": 2048000,
      "rowLimit": 10000
     },
     "inputWidgets": {},
     "nuid": "e41cef59-2e95-46c7-b7e8-750ee00cfbe0",
     "showTitle": false,
     "tableResultSettingsMap": {},
     "title": ""
    }
   },
   "outputs": [
    {
     "output_type": "display_data",
     "data": {
      "text/html": [
       "<style scoped>\n",
       "  .table-result-container {\n",
       "    max-height: 300px;\n",
       "    overflow: auto;\n",
       "  }\n",
       "  table, th, td {\n",
       "    border: 1px solid black;\n",
       "    border-collapse: collapse;\n",
       "  }\n",
       "  th, td {\n",
       "    padding: 5px;\n",
       "  }\n",
       "  th {\n",
       "    text-align: left;\n",
       "  }\n",
       "</style><div class='table-result-container'><table class='table-result'><thead style='background-color: white'><tr><th>bin_id</th><th>date</th><th>fill_level_percent</th><th>status</th><th>latitude</th><th>longitude</th><th>zone</th><th>rn</th></tr></thead><tbody><tr><td>BIN_001</td><td>2024-05-10</td><td>66.54</td><td>collected</td><td>43.57843994795849</td><td>-79.52689015470565</td><td>Zone C</td><td>1</td></tr><tr><td>BIN_002</td><td>2024-05-10</td><td>29.66</td><td>collected</td><td>43.519955390961094</td><td>-79.52289482740252</td><td>Zone D</td><td>1</td></tr><tr><td>BIN_003</td><td>2024-05-10</td><td>14.15</td><td>collected</td><td>43.551506440058674</td><td>-79.59265081833004</td><td>Zone A</td><td>1</td></tr><tr><td>BIN_004</td><td>2024-05-10</td><td>16.68</td><td>collected</td><td>43.55930701792603</td><td>-79.56400065478361</td><td>Zone C</td><td>1</td></tr><tr><td>BIN_005</td><td>2024-05-10</td><td>15.8</td><td>scheduled</td><td>43.50460933103502</td><td>-79.58833365570568</td><td>Zone C</td><td>1</td></tr><tr><td>BIN_006</td><td>2024-05-10</td><td>40.64</td><td>scheduled</td><td>43.560810401119035</td><td>-79.51346436872421</td><td>Zone D</td><td>1</td></tr><tr><td>BIN_007</td><td>2024-05-10</td><td>85.43</td><td>collected</td><td>43.51688981125955</td><td>-79.53771977315832</td><td>Zone A</td><td>1</td></tr><tr><td>BIN_008</td><td>2024-05-10</td><td>81.02</td><td>collected</td><td>43.50638256596203</td><td>-79.56683158845065</td><td>Zone A</td><td>1</td></tr><tr><td>BIN_009</td><td>2024-05-10</td><td>29.82</td><td>collected</td><td>43.59490671240993</td><td>-79.5934732488481</td><td>Zone C</td><td>1</td></tr><tr><td>BIN_010</td><td>2024-05-10</td><td>12.94</td><td>scheduled</td><td>43.596451161041465</td><td>-79.56891276159998</td><td>Zone B</td><td>1</td></tr><tr><td>BIN_011</td><td>2024-05-10</td><td>40.67</td><td>collected</td><td>43.580982951826</td><td>-79.56750882024487</td><td>Zone C</td><td>1</td></tr><tr><td>BIN_012</td><td>2024-05-10</td><td>67.56</td><td>collected</td><td>43.530425103125985</td><td>-79.52708964211226</td><td>Zone C</td><td>1</td></tr><tr><td>BIN_013</td><td>2024-05-10</td><td>80.81</td><td>scheduled</td><td>43.509677611519955</td><td>-79.53633734098389</td><td>Zone C</td><td>1</td></tr><tr><td>BIN_014</td><td>2024-05-10</td><td>52.56</td><td>scheduled</td><td>43.568360942107724</td><td>-79.51143360203459</td><td>Zone C</td><td>1</td></tr><tr><td>BIN_015</td><td>2024-05-10</td><td>90.23</td><td>overflow</td><td>43.54409590579163</td><td>-79.55275790253202</td><td>Zone D</td><td>1</td></tr><tr><td>BIN_016</td><td>2024-05-10</td><td>31.5</td><td>collected</td><td>43.51206232822341</td><td>-79.5882998900246</td><td>Zone A</td><td>1</td></tr><tr><td>BIN_017</td><td>2024-05-10</td><td>66.03</td><td>collected</td><td>43.54938889627218</td><td>-79.52893866446605</td><td>Zone D</td><td>1</td></tr><tr><td>BIN_018</td><td>2024-05-10</td><td>63.18</td><td>collected</td><td>43.503468644218046</td><td>-79.52389262189884</td><td>Zone D</td><td>1</td></tr><tr><td>BIN_019</td><td>2024-05-10</td><td>35.64</td><td>collected</td><td>43.59078696901611</td><td>-79.54390395557598</td><td>Zone D</td><td>1</td></tr><tr><td>BIN_020</td><td>2024-05-10</td><td>45.71</td><td>collected</td><td>43.52596093064239</td><td>-79.52296146578774</td><td>Zone C</td><td>1</td></tr><tr><td>BIN_021</td><td>2024-05-10</td><td>35.61</td><td>scheduled</td><td>43.56635605239469</td><td>-79.55061180360686</td><td>Zone B</td><td>1</td></tr><tr><td>BIN_022</td><td>2024-05-10</td><td>61.73</td><td>collected</td><td>43.531141753724725</td><td>-79.54771540363802</td><td>Zone A</td><td>1</td></tr><tr><td>BIN_023</td><td>2024-05-10</td><td>50.55</td><td>scheduled</td><td>43.55196984523249</td><td>-79.55735824978463</td><td>Zone B</td><td>1</td></tr><tr><td>BIN_024</td><td>2024-05-10</td><td>75.69</td><td>scheduled</td><td>43.55455283364923</td><td>-79.5973745378978</td><td>Zone D</td><td>1</td></tr><tr><td>BIN_025</td><td>2024-05-10</td><td>70.71</td><td>collected</td><td>43.51855423188527</td><td>-79.58916889074841</td><td>Zone D</td><td>1</td></tr><tr><td>BIN_026</td><td>2024-05-10</td><td>10.19</td><td>missed</td><td>43.59692076326054</td><td>-79.59679950345306</td><td>Zone B</td><td>1</td></tr><tr><td>BIN_027</td><td>2024-05-10</td><td>69.88</td><td>scheduled</td><td>43.57744625733394</td><td>-79.53633221817539</td><td>Zone B</td><td>1</td></tr><tr><td>BIN_028</td><td>2024-05-10</td><td>63.67</td><td>collected</td><td>43.593929372858966</td><td>-79.56847861358175</td><td>Zone B</td><td>1</td></tr><tr><td>BIN_029</td><td>2024-05-10</td><td>38.9</td><td>missed</td><td>43.58966094287457</td><td>-79.54924944935195</td><td>Zone D</td><td>1</td></tr><tr><td>BIN_030</td><td>2024-05-10</td><td>68.18</td><td>scheduled</td><td>43.55979555543711</td><td>-79.50898866927923</td><td>Zone D</td><td>1</td></tr><tr><td>BIN_031</td><td>2024-05-10</td><td>22.5</td><td>collected</td><td>43.59215729797878</td><td>-79.57510251164437</td><td>Zone A</td><td>1</td></tr><tr><td>BIN_032</td><td>2024-05-10</td><td>67.41</td><td>missed</td><td>43.50897746009729</td><td>-79.5589500207582</td><td>Zone A</td><td>1</td></tr><tr><td>BIN_033</td><td>2024-05-10</td><td>99.21</td><td>overflow</td><td>43.51965416322037</td><td>-79.52435313162502</td><td>Zone D</td><td>1</td></tr><tr><td>BIN_034</td><td>2024-05-10</td><td>57.92</td><td>collected</td><td>43.50450411665628</td><td>-79.57719705208224</td><td>Zone B</td><td>1</td></tr><tr><td>BIN_035</td><td>2024-05-10</td><td>91.91</td><td>overflow</td><td>43.532476018488396</td><td>-79.59224016056584</td><td>Zone B</td><td>1</td></tr><tr><td>BIN_036</td><td>2024-05-10</td><td>51.99</td><td>scheduled</td><td>43.53885087000686</td><td>-79.5710896235112</td><td>Zone A</td><td>1</td></tr><tr><td>BIN_037</td><td>2024-05-10</td><td>86.67</td><td>collected</td><td>43.52714300946446</td><td>-79.58395837034068</td><td>Zone D</td><td>1</td></tr><tr><td>BIN_038</td><td>2024-05-10</td><td>87.56</td><td>collected</td><td>43.582817562348836</td><td>-79.5071630952877</td><td>Zone A</td><td>1</td></tr><tr><td>BIN_039</td><td>2024-05-10</td><td>50.51</td><td>collected</td><td>43.53563943041297</td><td>-79.51916474919237</td><td>Zone A</td><td>1</td></tr><tr><td>BIN_040</td><td>2024-05-10</td><td>90.07</td><td>overflow</td><td>43.528085623902356</td><td>-79.53669418530043</td><td>Zone C</td><td>1</td></tr><tr><td>BIN_041</td><td>2024-05-10</td><td>57.32</td><td>collected</td><td>43.55431448636769</td><td>-79.51295690444947</td><td>Zone C</td><td>1</td></tr><tr><td>BIN_042</td><td>2024-05-10</td><td>14.03</td><td>missed</td><td>43.51407697594559</td><td>-79.51958973504289</td><td>Zone C</td><td>1</td></tr><tr><td>BIN_043</td><td>2024-05-10</td><td>56.55</td><td>collected</td><td>43.58026334058835</td><td>-79.5812103598916</td><td>Zone B</td><td>1</td></tr><tr><td>BIN_044</td><td>2024-05-10</td><td>19.11</td><td>scheduled</td><td>43.507577276698214</td><td>-79.51073298293497</td><td>Zone D</td><td>1</td></tr><tr><td>BIN_045</td><td>2024-05-10</td><td>62.22</td><td>collected</td><td>43.59869148880558</td><td>-79.54602395710059</td><td>Zone D</td><td>1</td></tr><tr><td>BIN_046</td><td>2024-05-10</td><td>22.22</td><td>collected</td><td>43.57704774719436</td><td>-79.51940108180983</td><td>Zone D</td><td>1</td></tr><tr><td>BIN_047</td><td>2024-05-10</td><td>38.19</td><td>collected</td><td>43.519761955850946</td><td>-79.51039446954886</td><td>Zone D</td><td>1</td></tr><tr><td>BIN_048</td><td>2024-05-10</td><td>85.19</td><td>collected</td><td>43.500504734347814</td><td>-79.56842832429763</td><td>Zone C</td><td>1</td></tr><tr><td>BIN_049</td><td>2024-05-10</td><td>49.97</td><td>scheduled</td><td>43.58145993785734</td><td>-79.58898530755887</td><td>Zone B</td><td>1</td></tr><tr><td>BIN_050</td><td>2024-05-10</td><td>64.62</td><td>collected</td><td>43.57094902682845</td><td>-79.57738704429309</td><td>Zone B</td><td>1</td></tr></tbody></table></div>"
      ]
     },
     "metadata": {
      "application/vnd.databricks.v1+output": {
       "addedWidgets": {},
       "aggData": [],
       "aggError": "",
       "aggOverflow": false,
       "aggSchema": [],
       "aggSeriesLimitReached": false,
       "aggType": "",
       "arguments": {},
       "columnCustomDisplayInfos": {},
       "data": [
        [
         "BIN_001",
         "2024-05-10",
         66.54,
         "collected",
         43.57843994795849,
         -79.52689015470565,
         "Zone C",
         1
        ],
        [
         "BIN_002",
         "2024-05-10",
         29.66,
         "collected",
         43.519955390961094,
         -79.52289482740252,
         "Zone D",
         1
        ],
        [
         "BIN_003",
         "2024-05-10",
         14.15,
         "collected",
         43.551506440058674,
         -79.59265081833004,
         "Zone A",
         1
        ],
        [
         "BIN_004",
         "2024-05-10",
         16.68,
         "collected",
         43.55930701792603,
         -79.56400065478361,
         "Zone C",
         1
        ],
        [
         "BIN_005",
         "2024-05-10",
         15.8,
         "scheduled",
         43.50460933103502,
         -79.58833365570568,
         "Zone C",
         1
        ],
        [
         "BIN_006",
         "2024-05-10",
         40.64,
         "scheduled",
         43.560810401119035,
         -79.51346436872421,
         "Zone D",
         1
        ],
        [
         "BIN_007",
         "2024-05-10",
         85.43,
         "collected",
         43.51688981125955,
         -79.53771977315832,
         "Zone A",
         1
        ],
        [
         "BIN_008",
         "2024-05-10",
         81.02,
         "collected",
         43.50638256596203,
         -79.56683158845065,
         "Zone A",
         1
        ],
        [
         "BIN_009",
         "2024-05-10",
         29.82,
         "collected",
         43.59490671240993,
         -79.5934732488481,
         "Zone C",
         1
        ],
        [
         "BIN_010",
         "2024-05-10",
         12.94,
         "scheduled",
         43.596451161041465,
         -79.56891276159998,
         "Zone B",
         1
        ],
        [
         "BIN_011",
         "2024-05-10",
         40.67,
         "collected",
         43.580982951826,
         -79.56750882024487,
         "Zone C",
         1
        ],
        [
         "BIN_012",
         "2024-05-10",
         67.56,
         "collected",
         43.530425103125985,
         -79.52708964211226,
         "Zone C",
         1
        ],
        [
         "BIN_013",
         "2024-05-10",
         80.81,
         "scheduled",
         43.509677611519955,
         -79.53633734098389,
         "Zone C",
         1
        ],
        [
         "BIN_014",
         "2024-05-10",
         52.56,
         "scheduled",
         43.568360942107724,
         -79.51143360203459,
         "Zone C",
         1
        ],
        [
         "BIN_015",
         "2024-05-10",
         90.23,
         "overflow",
         43.54409590579163,
         -79.55275790253202,
         "Zone D",
         1
        ],
        [
         "BIN_016",
         "2024-05-10",
         31.5,
         "collected",
         43.51206232822341,
         -79.5882998900246,
         "Zone A",
         1
        ],
        [
         "BIN_017",
         "2024-05-10",
         66.03,
         "collected",
         43.54938889627218,
         -79.52893866446605,
         "Zone D",
         1
        ],
        [
         "BIN_018",
         "2024-05-10",
         63.18,
         "collected",
         43.503468644218046,
         -79.52389262189884,
         "Zone D",
         1
        ],
        [
         "BIN_019",
         "2024-05-10",
         35.64,
         "collected",
         43.59078696901611,
         -79.54390395557598,
         "Zone D",
         1
        ],
        [
         "BIN_020",
         "2024-05-10",
         45.71,
         "collected",
         43.52596093064239,
         -79.52296146578774,
         "Zone C",
         1
        ],
        [
         "BIN_021",
         "2024-05-10",
         35.61,
         "scheduled",
         43.56635605239469,
         -79.55061180360686,
         "Zone B",
         1
        ],
        [
         "BIN_022",
         "2024-05-10",
         61.73,
         "collected",
         43.531141753724725,
         -79.54771540363802,
         "Zone A",
         1
        ],
        [
         "BIN_023",
         "2024-05-10",
         50.55,
         "scheduled",
         43.55196984523249,
         -79.55735824978463,
         "Zone B",
         1
        ],
        [
         "BIN_024",
         "2024-05-10",
         75.69,
         "scheduled",
         43.55455283364923,
         -79.5973745378978,
         "Zone D",
         1
        ],
        [
         "BIN_025",
         "2024-05-10",
         70.71,
         "collected",
         43.51855423188527,
         -79.58916889074841,
         "Zone D",
         1
        ],
        [
         "BIN_026",
         "2024-05-10",
         10.19,
         "missed",
         43.59692076326054,
         -79.59679950345306,
         "Zone B",
         1
        ],
        [
         "BIN_027",
         "2024-05-10",
         69.88,
         "scheduled",
         43.57744625733394,
         -79.53633221817539,
         "Zone B",
         1
        ],
        [
         "BIN_028",
         "2024-05-10",
         63.67,
         "collected",
         43.593929372858966,
         -79.56847861358175,
         "Zone B",
         1
        ],
        [
         "BIN_029",
         "2024-05-10",
         38.9,
         "missed",
         43.58966094287457,
         -79.54924944935195,
         "Zone D",
         1
        ],
        [
         "BIN_030",
         "2024-05-10",
         68.18,
         "scheduled",
         43.55979555543711,
         -79.50898866927923,
         "Zone D",
         1
        ],
        [
         "BIN_031",
         "2024-05-10",
         22.5,
         "collected",
         43.59215729797878,
         -79.57510251164437,
         "Zone A",
         1
        ],
        [
         "BIN_032",
         "2024-05-10",
         67.41,
         "missed",
         43.50897746009729,
         -79.5589500207582,
         "Zone A",
         1
        ],
        [
         "BIN_033",
         "2024-05-10",
         99.21,
         "overflow",
         43.51965416322037,
         -79.52435313162502,
         "Zone D",
         1
        ],
        [
         "BIN_034",
         "2024-05-10",
         57.92,
         "collected",
         43.50450411665628,
         -79.57719705208224,
         "Zone B",
         1
        ],
        [
         "BIN_035",
         "2024-05-10",
         91.91,
         "overflow",
         43.532476018488396,
         -79.59224016056584,
         "Zone B",
         1
        ],
        [
         "BIN_036",
         "2024-05-10",
         51.99,
         "scheduled",
         43.53885087000686,
         -79.5710896235112,
         "Zone A",
         1
        ],
        [
         "BIN_037",
         "2024-05-10",
         86.67,
         "collected",
         43.52714300946446,
         -79.58395837034068,
         "Zone D",
         1
        ],
        [
         "BIN_038",
         "2024-05-10",
         87.56,
         "collected",
         43.582817562348836,
         -79.5071630952877,
         "Zone A",
         1
        ],
        [
         "BIN_039",
         "2024-05-10",
         50.51,
         "collected",
         43.53563943041297,
         -79.51916474919237,
         "Zone A",
         1
        ],
        [
         "BIN_040",
         "2024-05-10",
         90.07,
         "overflow",
         43.528085623902356,
         -79.53669418530043,
         "Zone C",
         1
        ],
        [
         "BIN_041",
         "2024-05-10",
         57.32,
         "collected",
         43.55431448636769,
         -79.51295690444947,
         "Zone C",
         1
        ],
        [
         "BIN_042",
         "2024-05-10",
         14.03,
         "missed",
         43.51407697594559,
         -79.51958973504289,
         "Zone C",
         1
        ],
        [
         "BIN_043",
         "2024-05-10",
         56.55,
         "collected",
         43.58026334058835,
         -79.5812103598916,
         "Zone B",
         1
        ],
        [
         "BIN_044",
         "2024-05-10",
         19.11,
         "scheduled",
         43.507577276698214,
         -79.51073298293497,
         "Zone D",
         1
        ],
        [
         "BIN_045",
         "2024-05-10",
         62.22,
         "collected",
         43.59869148880558,
         -79.54602395710059,
         "Zone D",
         1
        ],
        [
         "BIN_046",
         "2024-05-10",
         22.22,
         "collected",
         43.57704774719436,
         -79.51940108180983,
         "Zone D",
         1
        ],
        [
         "BIN_047",
         "2024-05-10",
         38.19,
         "collected",
         43.519761955850946,
         -79.51039446954886,
         "Zone D",
         1
        ],
        [
         "BIN_048",
         "2024-05-10",
         85.19,
         "collected",
         43.500504734347814,
         -79.56842832429763,
         "Zone C",
         1
        ],
        [
         "BIN_049",
         "2024-05-10",
         49.97,
         "scheduled",
         43.58145993785734,
         -79.58898530755887,
         "Zone B",
         1
        ],
        [
         "BIN_050",
         "2024-05-10",
         64.62,
         "collected",
         43.57094902682845,
         -79.57738704429309,
         "Zone B",
         1
        ]
       ],
       "datasetInfos": [
        {
         "name": "_sqldf",
         "schema": {
          "fields": [
           {
            "metadata": {},
            "name": "bin_id",
            "nullable": true,
            "type": "string"
           },
           {
            "metadata": {},
            "name": "date",
            "nullable": true,
            "type": "date"
           },
           {
            "metadata": {},
            "name": "fill_level_percent",
            "nullable": true,
            "type": "double"
           },
           {
            "metadata": {},
            "name": "status",
            "nullable": true,
            "type": "string"
           },
           {
            "metadata": {},
            "name": "latitude",
            "nullable": true,
            "type": "double"
           },
           {
            "metadata": {},
            "name": "longitude",
            "nullable": true,
            "type": "double"
           },
           {
            "metadata": {},
            "name": "zone",
            "nullable": true,
            "type": "string"
           },
           {
            "metadata": {},
            "name": "rn",
            "nullable": false,
            "type": "integer"
           }
          ],
          "type": "struct"
         },
         "tableIdentifier": null,
         "typeStr": "pyspark.sql.connect.dataframe.DataFrame"
        }
       ],
       "dbfsResultPath": null,
       "isJsonSchema": true,
       "metadata": {
        "createTempViewForImplicitDf": true,
        "dataframeName": "_sqldf",
        "executionCount": 51
       },
       "overflow": false,
       "plotOptions": {
        "customPlotOptions": {},
        "displayType": "table",
        "pivotAggregation": null,
        "pivotColumns": null,
        "xColumns": null,
        "yColumns": null
       },
       "removedWidgets": [],
       "schema": [
        {
         "metadata": "{}",
         "name": "bin_id",
         "type": "\"string\""
        },
        {
         "metadata": "{}",
         "name": "date",
         "type": "\"date\""
        },
        {
         "metadata": "{}",
         "name": "fill_level_percent",
         "type": "\"double\""
        },
        {
         "metadata": "{}",
         "name": "status",
         "type": "\"string\""
        },
        {
         "metadata": "{}",
         "name": "latitude",
         "type": "\"double\""
        },
        {
         "metadata": "{}",
         "name": "longitude",
         "type": "\"double\""
        },
        {
         "metadata": "{}",
         "name": "zone",
         "type": "\"string\""
        },
        {
         "metadata": "{}",
         "name": "rn",
         "type": "\"integer\""
        }
       ],
       "type": "table"
      }
     },
     "output_type": "display_data"
    }
   ],
   "source": [
    "CREATE OR REPLACE VIEW project.gold.latest_bin_status AS\n",
    "SELECT *\n",
    "FROM (\n",
    "    SELECT *,\n",
    "           ROW_NUMBER() OVER (PARTITION BY bin_id ORDER BY date DESC) as rn\n",
    "    FROM silver.collection_logs\n",
    ") tmp\n",
    "WHERE rn = 1;\n",
    "SELECT * FROM project.gold.latest_bin_status;"
   ]
  },
  {
   "cell_type": "code",
   "execution_count": 0,
   "metadata": {
    "application/vnd.databricks.v1+cell": {
     "cellMetadata": {
      "byteLimit": 2048000,
      "rowLimit": 10000
     },
     "inputWidgets": {},
     "nuid": "fd809c15-b570-4341-8e79-bc6b710a0b19",
     "showTitle": false,
     "tableResultSettingsMap": {},
     "title": ""
    }
   },
   "outputs": [
    {
     "output_type": "display_data",
     "data": {
      "text/html": [
       "<style scoped>\n",
       "  .table-result-container {\n",
       "    max-height: 300px;\n",
       "    overflow: auto;\n",
       "  }\n",
       "  table, th, td {\n",
       "    border: 1px solid black;\n",
       "    border-collapse: collapse;\n",
       "  }\n",
       "  th, td {\n",
       "    padding: 5px;\n",
       "  }\n",
       "  th {\n",
       "    text-align: left;\n",
       "  }\n",
       "</style><div class='table-result-container'><table class='table-result'><thead style='background-color: white'><tr><th>bin_id</th><th>date</th><th>fill_level_percent</th><th>zone</th><th>latitude</th><th>longitude</th></tr></thead><tbody><tr><td>BIN_007</td><td>2024-05-01</td><td>86.38</td><td>Zone A</td><td>43.51709738977257</td><td>-79.53749229488285</td></tr><tr><td>BIN_012</td><td>2024-05-01</td><td>98.37</td><td>Zone C</td><td>43.53047636028897</td><td>-79.52702529142938</td></tr><tr><td>BIN_032</td><td>2024-05-01</td><td>94.3</td><td>Zone A</td><td>43.508840242341876</td><td>-79.55901229570176</td></tr><tr><td>BIN_033</td><td>2024-05-01</td><td>97.08</td><td>Zone D</td><td>43.51937661013647</td><td>-79.52430592951183</td></tr><tr><td>BIN_039</td><td>2024-05-01</td><td>96.11</td><td>Zone A</td><td>43.535655312179784</td><td>-79.51898548994376</td></tr><tr><td>BIN_042</td><td>2024-05-01</td><td>97.18</td><td>Zone C</td><td>43.5141813209269</td><td>-79.51958318588677</td></tr><tr><td>BIN_043</td><td>2024-05-01</td><td>88.02</td><td>Zone B</td><td>43.58007575191574</td><td>-79.58138134286402</td></tr><tr><td>BIN_002</td><td>2024-05-02</td><td>98.01</td><td>Zone D</td><td>43.51977770349382</td><td>-79.52281305599882</td></tr><tr><td>BIN_021</td><td>2024-05-02</td><td>91.28</td><td>Zone B</td><td>43.5662725397902</td><td>-79.55061548309062</td></tr><tr><td>BIN_029</td><td>2024-05-02</td><td>88.69</td><td>Zone D</td><td>43.589490339846755</td><td>-79.54910763488598</td></tr><tr><td>BIN_032</td><td>2024-05-02</td><td>90.48</td><td>Zone A</td><td>43.50881178407236</td><td>-79.55904357539497</td></tr><tr><td>BIN_037</td><td>2024-05-02</td><td>86.0</td><td>Zone D</td><td>43.52701792633401</td><td>-79.58404378043343</td></tr><tr><td>BIN_039</td><td>2024-05-02</td><td>85.66</td><td>Zone A</td><td>43.53551928207792</td><td>-79.51916729309725</td></tr><tr><td>BIN_043</td><td>2024-05-02</td><td>90.97</td><td>Zone B</td><td>43.58007817782345</td><td>-79.58128345399783</td></tr><tr><td>BIN_046</td><td>2024-05-02</td><td>92.57</td><td>Zone D</td><td>43.57740399338533</td><td>-79.51926343524825</td></tr><tr><td>BIN_048</td><td>2024-05-02</td><td>85.47</td><td>Zone C</td><td>43.50061626991305</td><td>-79.56828113091561</td></tr><tr><td>BIN_009</td><td>2024-05-03</td><td>90.97</td><td>Zone C</td><td>43.59495934616203</td><td>-79.59342331991881</td></tr><tr><td>BIN_022</td><td>2024-05-03</td><td>92.07</td><td>Zone A</td><td>43.531257892512606</td><td>-79.54782036846355</td></tr><tr><td>BIN_030</td><td>2024-05-03</td><td>92.15</td><td>Zone D</td><td>43.55983716669163</td><td>-79.5093963290377</td></tr><tr><td>BIN_033</td><td>2024-05-03</td><td>97.8</td><td>Zone D</td><td>43.519825951404556</td><td>-79.52460781640674</td></tr><tr><td>BIN_034</td><td>2024-05-03</td><td>87.46</td><td>Zone B</td><td>43.504464897498764</td><td>-79.57721123923531</td></tr><tr><td>BIN_037</td><td>2024-05-03</td><td>85.29</td><td>Zone D</td><td>43.527238902421374</td><td>-79.58397793330265</td></tr><tr><td>BIN_048</td><td>2024-05-03</td><td>91.96</td><td>Zone C</td><td>43.50040234577221</td><td>-79.56808573674553</td></tr><tr><td>BIN_013</td><td>2024-05-04</td><td>95.87</td><td>Zone C</td><td>43.509762230537454</td><td>-79.53635616435729</td></tr><tr><td>BIN_015</td><td>2024-05-04</td><td>86.18</td><td>Zone D</td><td>43.54405270788491</td><td>-79.55288339031722</td></tr><tr><td>BIN_023</td><td>2024-05-04</td><td>99.94</td><td>Zone B</td><td>43.551881702484685</td><td>-79.55698530041744</td></tr><tr><td>BIN_028</td><td>2024-05-04</td><td>89.65</td><td>Zone B</td><td>43.59374189240033</td><td>-79.56869281598077</td></tr><tr><td>BIN_032</td><td>2024-05-04</td><td>93.93</td><td>Zone A</td><td>43.5088468224772</td><td>-79.55901723009636</td></tr><tr><td>BIN_035</td><td>2024-05-04</td><td>86.75</td><td>Zone B</td><td>43.53237390162674</td><td>-79.59223834586868</td></tr><tr><td>BIN_036</td><td>2024-05-04</td><td>91.93</td><td>Zone A</td><td>43.53877238305185</td><td>-79.57105236710726</td></tr><tr><td>BIN_037</td><td>2024-05-04</td><td>96.08</td><td>Zone D</td><td>43.527070047991785</td><td>-79.58379768554138</td></tr><tr><td>BIN_039</td><td>2024-05-04</td><td>91.34</td><td>Zone A</td><td>43.535660413753384</td><td>-79.51925390338471</td></tr><tr><td>BIN_040</td><td>2024-05-04</td><td>85.4</td><td>Zone C</td><td>43.52808062981613</td><td>-79.53670973834568</td></tr><tr><td>BIN_044</td><td>2024-05-04</td><td>99.67</td><td>Zone D</td><td>43.50744635348364</td><td>-79.51064955916101</td></tr><tr><td>BIN_047</td><td>2024-05-04</td><td>86.7</td><td>Zone D</td><td>43.51992224161967</td><td>-79.51041094130248</td></tr><tr><td>BIN_050</td><td>2024-05-04</td><td>91.59</td><td>Zone B</td><td>43.57087223470816</td><td>-79.57712443550197</td></tr><tr><td>BIN_002</td><td>2024-05-05</td><td>88.13</td><td>Zone D</td><td>43.519940754462624</td><td>-79.52289982893724</td></tr><tr><td>BIN_004</td><td>2024-05-05</td><td>89.35</td><td>Zone C</td><td>43.55934547747903</td><td>-79.56416290248293</td></tr><tr><td>BIN_019</td><td>2024-05-05</td><td>87.16</td><td>Zone D</td><td>43.590897671373085</td><td>-79.5437173592954</td></tr><tr><td>BIN_025</td><td>2024-05-05</td><td>97.08</td><td>Zone D</td><td>43.518469282978</td><td>-79.58934498476778</td></tr><tr><td>BIN_030</td><td>2024-05-05</td><td>97.72</td><td>Zone D</td><td>43.55988018036115</td><td>-79.50911588487352</td></tr><tr><td>BIN_035</td><td>2024-05-05</td><td>89.43</td><td>Zone B</td><td>43.5324859222591</td><td>-79.5921944965896</td></tr><tr><td>BIN_048</td><td>2024-05-05</td><td>96.47</td><td>Zone C</td><td>43.5006653369914</td><td>-79.56822712725233</td></tr><tr><td>BIN_023</td><td>2024-05-06</td><td>98.08</td><td>Zone B</td><td>43.55199651770147</td><td>-79.5572485775988</td></tr><tr><td>BIN_026</td><td>2024-05-06</td><td>94.68</td><td>Zone B</td><td>43.59700905676011</td><td>-79.59675804609022</td></tr><tr><td>BIN_030</td><td>2024-05-06</td><td>89.01</td><td>Zone D</td><td>43.55975804220488</td><td>-79.50914853492485</td></tr><tr><td>BIN_038</td><td>2024-05-06</td><td>90.7</td><td>Zone A</td><td>43.58275508120342</td><td>-79.50687716152649</td></tr><tr><td>BIN_048</td><td>2024-05-06</td><td>91.53</td><td>Zone C</td><td>43.50058388591824</td><td>-79.56804868625697</td></tr><tr><td>BIN_019</td><td>2024-05-07</td><td>87.82</td><td>Zone D</td><td>43.5908082239304</td><td>-79.54386979500923</td></tr><tr><td>BIN_029</td><td>2024-05-07</td><td>95.75</td><td>Zone D</td><td>43.589533762943816</td><td>-79.5490431496117</td></tr><tr><td>BIN_032</td><td>2024-05-07</td><td>94.28</td><td>Zone A</td><td>43.50881186746579</td><td>-79.55889844556646</td></tr><tr><td>BIN_033</td><td>2024-05-07</td><td>86.63</td><td>Zone D</td><td>43.519603191582846</td><td>-79.52446795618701</td></tr><tr><td>BIN_049</td><td>2024-05-07</td><td>96.06</td><td>Zone B</td><td>43.58159264739158</td><td>-79.58897814226437</td></tr><tr><td>BIN_009</td><td>2024-05-08</td><td>97.84</td><td>Zone C</td><td>43.5948024153551</td><td>-79.59373221116788</td></tr><tr><td>BIN_018</td><td>2024-05-08</td><td>98.06</td><td>Zone D</td><td>43.5034761016825</td><td>-79.5237615829048</td></tr><tr><td>BIN_024</td><td>2024-05-08</td><td>88.94</td><td>Zone D</td><td>43.5546916526889</td><td>-79.59757860150481</td></tr><tr><td>BIN_029</td><td>2024-05-08</td><td>85.6</td><td>Zone D</td><td>43.58956011831713</td><td>-79.54903071338066</td></tr><tr><td>BIN_042</td><td>2024-05-08</td><td>95.53</td><td>Zone C</td><td>43.514122800528426</td><td>-79.51977046146415</td></tr><tr><td>BIN_043</td><td>2024-05-08</td><td>98.17</td><td>Zone B</td><td>43.58027087184231</td><td>-79.58142852716283</td></tr><tr><td>BIN_047</td><td>2024-05-08</td><td>94.36</td><td>Zone D</td><td>43.519962489770066</td><td>-79.51024806685913</td></tr><tr><td>BIN_002</td><td>2024-05-09</td><td>97.74</td><td>Zone D</td><td>43.51986045315644</td><td>-79.52306661720485</td></tr><tr><td>BIN_003</td><td>2024-05-09</td><td>86.03</td><td>Zone A</td><td>43.551440835449746</td><td>-79.59261245991499</td></tr><tr><td>BIN_012</td><td>2024-05-09</td><td>86.22</td><td>Zone C</td><td>43.53050180263684</td><td>-79.52712778371165</td></tr><tr><td>BIN_024</td><td>2024-05-09</td><td>90.73</td><td>Zone D</td><td>43.554395068194395</td><td>-79.59735174984064</td></tr><tr><td>BIN_026</td><td>2024-05-09</td><td>90.75</td><td>Zone B</td><td>43.59696119505254</td><td>-79.59698539917412</td></tr><tr><td>BIN_029</td><td>2024-05-09</td><td>98.96</td><td>Zone D</td><td>43.58937696347796</td><td>-79.54914703242564</td></tr><tr><td>BIN_032</td><td>2024-05-09</td><td>97.61</td><td>Zone A</td><td>43.50872337704027</td><td>-79.55906262352538</td></tr><tr><td>BIN_033</td><td>2024-05-09</td><td>92.64</td><td>Zone D</td><td>43.519626884735985</td><td>-79.52448777043925</td></tr><tr><td>BIN_034</td><td>2024-05-09</td><td>98.93</td><td>Zone B</td><td>43.50455039979544</td><td>-79.57704696939449</td></tr><tr><td>BIN_037</td><td>2024-05-09</td><td>91.48</td><td>Zone D</td><td>43.52705649958989</td><td>-79.5838170073916</td></tr><tr><td>BIN_043</td><td>2024-05-09</td><td>91.32</td><td>Zone B</td><td>43.58028803992587</td><td>-79.58140240756907</td></tr><tr><td>BIN_049</td><td>2024-05-09</td><td>97.55</td><td>Zone B</td><td>43.58160022976773</td><td>-79.58890633244175</td></tr><tr><td>BIN_050</td><td>2024-05-09</td><td>85.55</td><td>Zone B</td><td>43.57078605570474</td><td>-79.57700079852373</td></tr><tr><td>BIN_007</td><td>2024-05-10</td><td>85.43</td><td>Zone A</td><td>43.51688981125955</td><td>-79.53771977315832</td></tr><tr><td>BIN_015</td><td>2024-05-10</td><td>90.23</td><td>Zone D</td><td>43.54409590579163</td><td>-79.55275790253202</td></tr><tr><td>BIN_033</td><td>2024-05-10</td><td>99.21</td><td>Zone D</td><td>43.51965416322037</td><td>-79.52435313162502</td></tr><tr><td>BIN_035</td><td>2024-05-10</td><td>91.91</td><td>Zone B</td><td>43.532476018488396</td><td>-79.59224016056584</td></tr><tr><td>BIN_037</td><td>2024-05-10</td><td>86.67</td><td>Zone D</td><td>43.52714300946446</td><td>-79.58395837034068</td></tr><tr><td>BIN_038</td><td>2024-05-10</td><td>87.56</td><td>Zone A</td><td>43.582817562348836</td><td>-79.5071630952877</td></tr><tr><td>BIN_040</td><td>2024-05-10</td><td>90.07</td><td>Zone C</td><td>43.528085623902356</td><td>-79.53669418530043</td></tr><tr><td>BIN_048</td><td>2024-05-10</td><td>85.19</td><td>Zone C</td><td>43.500504734347814</td><td>-79.56842832429763</td></tr></tbody></table></div>"
      ]
     },
     "metadata": {
      "application/vnd.databricks.v1+output": {
       "addedWidgets": {},
       "aggData": [],
       "aggError": "",
       "aggOverflow": false,
       "aggSchema": [],
       "aggSeriesLimitReached": false,
       "aggType": "",
       "arguments": {},
       "columnCustomDisplayInfos": {},
       "data": [
        [
         "BIN_007",
         "2024-05-01",
         86.38,
         "Zone A",
         43.51709738977257,
         -79.53749229488285
        ],
        [
         "BIN_012",
         "2024-05-01",
         98.37,
         "Zone C",
         43.53047636028897,
         -79.52702529142938
        ],
        [
         "BIN_032",
         "2024-05-01",
         94.3,
         "Zone A",
         43.508840242341876,
         -79.55901229570176
        ],
        [
         "BIN_033",
         "2024-05-01",
         97.08,
         "Zone D",
         43.51937661013647,
         -79.52430592951183
        ],
        [
         "BIN_039",
         "2024-05-01",
         96.11,
         "Zone A",
         43.535655312179784,
         -79.51898548994376
        ],
        [
         "BIN_042",
         "2024-05-01",
         97.18,
         "Zone C",
         43.5141813209269,
         -79.51958318588677
        ],
        [
         "BIN_043",
         "2024-05-01",
         88.02,
         "Zone B",
         43.58007575191574,
         -79.58138134286402
        ],
        [
         "BIN_002",
         "2024-05-02",
         98.01,
         "Zone D",
         43.51977770349382,
         -79.52281305599882
        ],
        [
         "BIN_021",
         "2024-05-02",
         91.28,
         "Zone B",
         43.5662725397902,
         -79.55061548309062
        ],
        [
         "BIN_029",
         "2024-05-02",
         88.69,
         "Zone D",
         43.589490339846755,
         -79.54910763488598
        ],
        [
         "BIN_032",
         "2024-05-02",
         90.48,
         "Zone A",
         43.50881178407236,
         -79.55904357539497
        ],
        [
         "BIN_037",
         "2024-05-02",
         86.0,
         "Zone D",
         43.52701792633401,
         -79.58404378043343
        ],
        [
         "BIN_039",
         "2024-05-02",
         85.66,
         "Zone A",
         43.53551928207792,
         -79.51916729309725
        ],
        [
         "BIN_043",
         "2024-05-02",
         90.97,
         "Zone B",
         43.58007817782345,
         -79.58128345399783
        ],
        [
         "BIN_046",
         "2024-05-02",
         92.57,
         "Zone D",
         43.57740399338533,
         -79.51926343524825
        ],
        [
         "BIN_048",
         "2024-05-02",
         85.47,
         "Zone C",
         43.50061626991305,
         -79.56828113091561
        ],
        [
         "BIN_009",
         "2024-05-03",
         90.97,
         "Zone C",
         43.59495934616203,
         -79.59342331991881
        ],
        [
         "BIN_022",
         "2024-05-03",
         92.07,
         "Zone A",
         43.531257892512606,
         -79.54782036846355
        ],
        [
         "BIN_030",
         "2024-05-03",
         92.15,
         "Zone D",
         43.55983716669163,
         -79.5093963290377
        ],
        [
         "BIN_033",
         "2024-05-03",
         97.8,
         "Zone D",
         43.519825951404556,
         -79.52460781640674
        ],
        [
         "BIN_034",
         "2024-05-03",
         87.46,
         "Zone B",
         43.504464897498764,
         -79.57721123923531
        ],
        [
         "BIN_037",
         "2024-05-03",
         85.29,
         "Zone D",
         43.527238902421374,
         -79.58397793330265
        ],
        [
         "BIN_048",
         "2024-05-03",
         91.96,
         "Zone C",
         43.50040234577221,
         -79.56808573674553
        ],
        [
         "BIN_013",
         "2024-05-04",
         95.87,
         "Zone C",
         43.509762230537454,
         -79.53635616435729
        ],
        [
         "BIN_015",
         "2024-05-04",
         86.18,
         "Zone D",
         43.54405270788491,
         -79.55288339031722
        ],
        [
         "BIN_023",
         "2024-05-04",
         99.94,
         "Zone B",
         43.551881702484685,
         -79.55698530041744
        ],
        [
         "BIN_028",
         "2024-05-04",
         89.65,
         "Zone B",
         43.59374189240033,
         -79.56869281598077
        ],
        [
         "BIN_032",
         "2024-05-04",
         93.93,
         "Zone A",
         43.5088468224772,
         -79.55901723009636
        ],
        [
         "BIN_035",
         "2024-05-04",
         86.75,
         "Zone B",
         43.53237390162674,
         -79.59223834586868
        ],
        [
         "BIN_036",
         "2024-05-04",
         91.93,
         "Zone A",
         43.53877238305185,
         -79.57105236710726
        ],
        [
         "BIN_037",
         "2024-05-04",
         96.08,
         "Zone D",
         43.527070047991785,
         -79.58379768554138
        ],
        [
         "BIN_039",
         "2024-05-04",
         91.34,
         "Zone A",
         43.535660413753384,
         -79.51925390338471
        ],
        [
         "BIN_040",
         "2024-05-04",
         85.4,
         "Zone C",
         43.52808062981613,
         -79.53670973834568
        ],
        [
         "BIN_044",
         "2024-05-04",
         99.67,
         "Zone D",
         43.50744635348364,
         -79.51064955916101
        ],
        [
         "BIN_047",
         "2024-05-04",
         86.7,
         "Zone D",
         43.51992224161967,
         -79.51041094130248
        ],
        [
         "BIN_050",
         "2024-05-04",
         91.59,
         "Zone B",
         43.57087223470816,
         -79.57712443550197
        ],
        [
         "BIN_002",
         "2024-05-05",
         88.13,
         "Zone D",
         43.519940754462624,
         -79.52289982893724
        ],
        [
         "BIN_004",
         "2024-05-05",
         89.35,
         "Zone C",
         43.55934547747903,
         -79.56416290248293
        ],
        [
         "BIN_019",
         "2024-05-05",
         87.16,
         "Zone D",
         43.590897671373085,
         -79.5437173592954
        ],
        [
         "BIN_025",
         "2024-05-05",
         97.08,
         "Zone D",
         43.518469282978,
         -79.58934498476778
        ],
        [
         "BIN_030",
         "2024-05-05",
         97.72,
         "Zone D",
         43.55988018036115,
         -79.50911588487352
        ],
        [
         "BIN_035",
         "2024-05-05",
         89.43,
         "Zone B",
         43.5324859222591,
         -79.5921944965896
        ],
        [
         "BIN_048",
         "2024-05-05",
         96.47,
         "Zone C",
         43.5006653369914,
         -79.56822712725233
        ],
        [
         "BIN_023",
         "2024-05-06",
         98.08,
         "Zone B",
         43.55199651770147,
         -79.5572485775988
        ],
        [
         "BIN_026",
         "2024-05-06",
         94.68,
         "Zone B",
         43.59700905676011,
         -79.59675804609022
        ],
        [
         "BIN_030",
         "2024-05-06",
         89.01,
         "Zone D",
         43.55975804220488,
         -79.50914853492485
        ],
        [
         "BIN_038",
         "2024-05-06",
         90.7,
         "Zone A",
         43.58275508120342,
         -79.50687716152649
        ],
        [
         "BIN_048",
         "2024-05-06",
         91.53,
         "Zone C",
         43.50058388591824,
         -79.56804868625697
        ],
        [
         "BIN_019",
         "2024-05-07",
         87.82,
         "Zone D",
         43.5908082239304,
         -79.54386979500923
        ],
        [
         "BIN_029",
         "2024-05-07",
         95.75,
         "Zone D",
         43.589533762943816,
         -79.5490431496117
        ],
        [
         "BIN_032",
         "2024-05-07",
         94.28,
         "Zone A",
         43.50881186746579,
         -79.55889844556646
        ],
        [
         "BIN_033",
         "2024-05-07",
         86.63,
         "Zone D",
         43.519603191582846,
         -79.52446795618701
        ],
        [
         "BIN_049",
         "2024-05-07",
         96.06,
         "Zone B",
         43.58159264739158,
         -79.58897814226437
        ],
        [
         "BIN_009",
         "2024-05-08",
         97.84,
         "Zone C",
         43.5948024153551,
         -79.59373221116788
        ],
        [
         "BIN_018",
         "2024-05-08",
         98.06,
         "Zone D",
         43.5034761016825,
         -79.5237615829048
        ],
        [
         "BIN_024",
         "2024-05-08",
         88.94,
         "Zone D",
         43.5546916526889,
         -79.59757860150481
        ],
        [
         "BIN_029",
         "2024-05-08",
         85.6,
         "Zone D",
         43.58956011831713,
         -79.54903071338066
        ],
        [
         "BIN_042",
         "2024-05-08",
         95.53,
         "Zone C",
         43.514122800528426,
         -79.51977046146415
        ],
        [
         "BIN_043",
         "2024-05-08",
         98.17,
         "Zone B",
         43.58027087184231,
         -79.58142852716283
        ],
        [
         "BIN_047",
         "2024-05-08",
         94.36,
         "Zone D",
         43.519962489770066,
         -79.51024806685913
        ],
        [
         "BIN_002",
         "2024-05-09",
         97.74,
         "Zone D",
         43.51986045315644,
         -79.52306661720485
        ],
        [
         "BIN_003",
         "2024-05-09",
         86.03,
         "Zone A",
         43.551440835449746,
         -79.59261245991499
        ],
        [
         "BIN_012",
         "2024-05-09",
         86.22,
         "Zone C",
         43.53050180263684,
         -79.52712778371165
        ],
        [
         "BIN_024",
         "2024-05-09",
         90.73,
         "Zone D",
         43.554395068194395,
         -79.59735174984064
        ],
        [
         "BIN_026",
         "2024-05-09",
         90.75,
         "Zone B",
         43.59696119505254,
         -79.59698539917412
        ],
        [
         "BIN_029",
         "2024-05-09",
         98.96,
         "Zone D",
         43.58937696347796,
         -79.54914703242564
        ],
        [
         "BIN_032",
         "2024-05-09",
         97.61,
         "Zone A",
         43.50872337704027,
         -79.55906262352538
        ],
        [
         "BIN_033",
         "2024-05-09",
         92.64,
         "Zone D",
         43.519626884735985,
         -79.52448777043925
        ],
        [
         "BIN_034",
         "2024-05-09",
         98.93,
         "Zone B",
         43.50455039979544,
         -79.57704696939449
        ],
        [
         "BIN_037",
         "2024-05-09",
         91.48,
         "Zone D",
         43.52705649958989,
         -79.5838170073916
        ],
        [
         "BIN_043",
         "2024-05-09",
         91.32,
         "Zone B",
         43.58028803992587,
         -79.58140240756907
        ],
        [
         "BIN_049",
         "2024-05-09",
         97.55,
         "Zone B",
         43.58160022976773,
         -79.58890633244175
        ],
        [
         "BIN_050",
         "2024-05-09",
         85.55,
         "Zone B",
         43.57078605570474,
         -79.57700079852373
        ],
        [
         "BIN_007",
         "2024-05-10",
         85.43,
         "Zone A",
         43.51688981125955,
         -79.53771977315832
        ],
        [
         "BIN_015",
         "2024-05-10",
         90.23,
         "Zone D",
         43.54409590579163,
         -79.55275790253202
        ],
        [
         "BIN_033",
         "2024-05-10",
         99.21,
         "Zone D",
         43.51965416322037,
         -79.52435313162502
        ],
        [
         "BIN_035",
         "2024-05-10",
         91.91,
         "Zone B",
         43.532476018488396,
         -79.59224016056584
        ],
        [
         "BIN_037",
         "2024-05-10",
         86.67,
         "Zone D",
         43.52714300946446,
         -79.58395837034068
        ],
        [
         "BIN_038",
         "2024-05-10",
         87.56,
         "Zone A",
         43.582817562348836,
         -79.5071630952877
        ],
        [
         "BIN_040",
         "2024-05-10",
         90.07,
         "Zone C",
         43.528085623902356,
         -79.53669418530043
        ],
        [
         "BIN_048",
         "2024-05-10",
         85.19,
         "Zone C",
         43.500504734347814,
         -79.56842832429763
        ]
       ],
       "datasetInfos": [
        {
         "name": "_sqldf",
         "schema": {
          "fields": [
           {
            "metadata": {},
            "name": "bin_id",
            "nullable": true,
            "type": "string"
           },
           {
            "metadata": {},
            "name": "date",
            "nullable": true,
            "type": "date"
           },
           {
            "metadata": {},
            "name": "fill_level_percent",
            "nullable": true,
            "type": "double"
           },
           {
            "metadata": {},
            "name": "zone",
            "nullable": true,
            "type": "string"
           },
           {
            "metadata": {},
            "name": "latitude",
            "nullable": true,
            "type": "double"
           },
           {
            "metadata": {},
            "name": "longitude",
            "nullable": true,
            "type": "double"
           }
          ],
          "type": "struct"
         },
         "tableIdentifier": null,
         "typeStr": "pyspark.sql.connect.dataframe.DataFrame"
        }
       ],
       "dbfsResultPath": null,
       "isJsonSchema": true,
       "metadata": {
        "createTempViewForImplicitDf": true,
        "dataframeName": "_sqldf",
        "executionCount": 44
       },
       "overflow": false,
       "plotOptions": {
        "customPlotOptions": {},
        "displayType": "table",
        "pivotAggregation": null,
        "pivotColumns": null,
        "xColumns": null,
        "yColumns": null
       },
       "removedWidgets": [],
       "schema": [
        {
         "metadata": "{}",
         "name": "bin_id",
         "type": "\"string\""
        },
        {
         "metadata": "{}",
         "name": "date",
         "type": "\"date\""
        },
        {
         "metadata": "{}",
         "name": "fill_level_percent",
         "type": "\"double\""
        },
        {
         "metadata": "{}",
         "name": "zone",
         "type": "\"string\""
        },
        {
         "metadata": "{}",
         "name": "latitude",
         "type": "\"double\""
        },
        {
         "metadata": "{}",
         "name": "longitude",
         "type": "\"double\""
        }
       ],
       "type": "table"
      }
     },
     "output_type": "display_data"
    }
   ],
   "source": [
    "CREATE OR REPLACE VIEW project.gold.overflow_bins AS\n",
    "SELECT\n",
    "  bin_id,\n",
    "  date,\n",
    "  fill_level_percent,\n",
    "  zone,\n",
    "  latitude,\n",
    "  longitude\n",
    "FROM workspace.silver.collection_logs\n",
    "WHERE fill_level_percent >= 85;\n",
    "\n",
    "SELECT * from project.gold.overflow_bins;"
   ]
  },
  {
   "cell_type": "code",
   "execution_count": 0,
   "metadata": {
    "application/vnd.databricks.v1+cell": {
     "cellMetadata": {
      "byteLimit": 2048000,
      "rowLimit": 10000
     },
     "inputWidgets": {},
     "nuid": "ae3b99fb-e507-4b46-b3c6-bda22eb22d4a",
     "showTitle": false,
     "tableResultSettingsMap": {},
     "title": ""
    }
   },
   "outputs": [
    {
     "output_type": "display_data",
     "data": {
      "text/html": [
       "<style scoped>\n",
       "  .table-result-container {\n",
       "    max-height: 300px;\n",
       "    overflow: auto;\n",
       "  }\n",
       "  table, th, td {\n",
       "    border: 1px solid black;\n",
       "    border-collapse: collapse;\n",
       "  }\n",
       "  th, td {\n",
       "    padding: 5px;\n",
       "  }\n",
       "  th {\n",
       "    text-align: left;\n",
       "  }\n",
       "</style><div class='table-result-container'><table class='table-result'><thead style='background-color: white'><tr><th>bin_id</th><th>total_collections</th><th>max_fill_level</th><th>min_fill_level</th><th>avg_fill_level</th></tr></thead><tbody><tr><td>BIN_035</td><td>10</td><td>91.91</td><td>14.75</td><td>53.39</td></tr><tr><td>BIN_031</td><td>10</td><td>78.14</td><td>12.86</td><td>36.64</td></tr><tr><td>BIN_020</td><td>10</td><td>63.91</td><td>15.68</td><td>42.18</td></tr><tr><td>BIN_017</td><td>10</td><td>77.87</td><td>17.97</td><td>47.99</td></tr><tr><td>BIN_025</td><td>10</td><td>97.08</td><td>20.18</td><td>55.92</td></tr><tr><td>BIN_016</td><td>10</td><td>83.96</td><td>14.65</td><td>45.18</td></tr><tr><td>BIN_021</td><td>10</td><td>91.28</td><td>14.29</td><td>45.89</td></tr><tr><td>BIN_003</td><td>10</td><td>86.03</td><td>13.91</td><td>46.92</td></tr><tr><td>BIN_043</td><td>10</td><td>98.17</td><td>21.09</td><td>67.48</td></tr><tr><td>BIN_008</td><td>10</td><td>81.02</td><td>20.43</td><td>45.89</td></tr><tr><td>BIN_038</td><td>10</td><td>90.7</td><td>19.44</td><td>51.56</td></tr><tr><td>BIN_014</td><td>10</td><td>83.94</td><td>18.55</td><td>54.14</td></tr><tr><td>BIN_044</td><td>10</td><td>99.67</td><td>15.32</td><td>50.03</td></tr><tr><td>BIN_049</td><td>10</td><td>97.55</td><td>10.63</td><td>63.04</td></tr><tr><td>BIN_033</td><td>10</td><td>99.21</td><td>11.65</td><td>69.48</td></tr><tr><td>BIN_040</td><td>10</td><td>90.07</td><td>38.34</td><td>64.0</td></tr><tr><td>BIN_028</td><td>10</td><td>89.65</td><td>22.53</td><td>57.01</td></tr><tr><td>BIN_046</td><td>10</td><td>92.57</td><td>10.23</td><td>44.82</td></tr><tr><td>BIN_048</td><td>10</td><td>96.47</td><td>12.45</td><td>68.58</td></tr><tr><td>BIN_036</td><td>10</td><td>91.93</td><td>12.06</td><td>47.26</td></tr><tr><td>BIN_047</td><td>10</td><td>94.36</td><td>21.05</td><td>60.1</td></tr><tr><td>BIN_009</td><td>10</td><td>97.84</td><td>11.66</td><td>48.65</td></tr><tr><td>BIN_034</td><td>10</td><td>98.93</td><td>40.27</td><td>66.24</td></tr><tr><td>BIN_002</td><td>10</td><td>98.01</td><td>28.16</td><td>59.68</td></tr><tr><td>BIN_005</td><td>10</td><td>84.03</td><td>10.46</td><td>43.24</td></tr><tr><td>BIN_010</td><td>10</td><td>84.87</td><td>12.94</td><td>43.96</td></tr><tr><td>BIN_026</td><td>10</td><td>94.68</td><td>10.11</td><td>48.57</td></tr><tr><td>BIN_006</td><td>10</td><td>77.55</td><td>10.1</td><td>51.5</td></tr><tr><td>BIN_012</td><td>10</td><td>98.37</td><td>32.73</td><td>63.43</td></tr><tr><td>BIN_023</td><td>10</td><td>99.94</td><td>18.2</td><td>63.08</td></tr><tr><td>BIN_030</td><td>10</td><td>97.72</td><td>20.96</td><td>69.69</td></tr><tr><td>BIN_015</td><td>10</td><td>90.23</td><td>10.09</td><td>52.93</td></tr><tr><td>BIN_045</td><td>10</td><td>83.42</td><td>10.02</td><td>49.94</td></tr><tr><td>BIN_019</td><td>10</td><td>87.82</td><td>11.1</td><td>56.84</td></tr><tr><td>BIN_024</td><td>10</td><td>90.73</td><td>11.38</td><td>44.73</td></tr><tr><td>BIN_029</td><td>10</td><td>98.96</td><td>19.82</td><td>60.99</td></tr><tr><td>BIN_037</td><td>10</td><td>96.08</td><td>26.0</td><td>74.64</td></tr><tr><td>BIN_042</td><td>10</td><td>97.18</td><td>14.03</td><td>50.16</td></tr><tr><td>BIN_004</td><td>10</td><td>89.35</td><td>13.42</td><td>44.88</td></tr><tr><td>BIN_039</td><td>10</td><td>96.11</td><td>27.74</td><td>69.04</td></tr><tr><td>BIN_027</td><td>10</td><td>83.01</td><td>28.5</td><td>63.29</td></tr><tr><td>BIN_011</td><td>10</td><td>81.25</td><td>16.14</td><td>48.36</td></tr><tr><td>BIN_041</td><td>10</td><td>82.07</td><td>13.31</td><td>56.43</td></tr><tr><td>BIN_007</td><td>10</td><td>86.38</td><td>19.59</td><td>54.46</td></tr><tr><td>BIN_013</td><td>10</td><td>95.87</td><td>24.1</td><td>48.47</td></tr><tr><td>BIN_022</td><td>10</td><td>92.07</td><td>14.64</td><td>49.27</td></tr><tr><td>BIN_018</td><td>10</td><td>98.06</td><td>15.24</td><td>49.28</td></tr><tr><td>BIN_032</td><td>10</td><td>97.61</td><td>29.55</td><td>74.48</td></tr><tr><td>BIN_001</td><td>10</td><td>66.54</td><td>17.46</td><td>46.4</td></tr><tr><td>BIN_050</td><td>10</td><td>91.59</td><td>42.65</td><td>66.93</td></tr></tbody></table></div>"
      ]
     },
     "metadata": {
      "application/vnd.databricks.v1+output": {
       "addedWidgets": {},
       "aggData": [],
       "aggError": "",
       "aggOverflow": false,
       "aggSchema": [],
       "aggSeriesLimitReached": false,
       "aggType": "",
       "arguments": {},
       "columnCustomDisplayInfos": {},
       "data": [
        [
         "BIN_035",
         10,
         91.91,
         14.75,
         53.39
        ],
        [
         "BIN_031",
         10,
         78.14,
         12.86,
         36.64
        ],
        [
         "BIN_020",
         10,
         63.91,
         15.68,
         42.18
        ],
        [
         "BIN_017",
         10,
         77.87,
         17.97,
         47.99
        ],
        [
         "BIN_025",
         10,
         97.08,
         20.18,
         55.92
        ],
        [
         "BIN_016",
         10,
         83.96,
         14.65,
         45.18
        ],
        [
         "BIN_021",
         10,
         91.28,
         14.29,
         45.89
        ],
        [
         "BIN_003",
         10,
         86.03,
         13.91,
         46.92
        ],
        [
         "BIN_043",
         10,
         98.17,
         21.09,
         67.48
        ],
        [
         "BIN_008",
         10,
         81.02,
         20.43,
         45.89
        ],
        [
         "BIN_038",
         10,
         90.7,
         19.44,
         51.56
        ],
        [
         "BIN_014",
         10,
         83.94,
         18.55,
         54.14
        ],
        [
         "BIN_044",
         10,
         99.67,
         15.32,
         50.03
        ],
        [
         "BIN_049",
         10,
         97.55,
         10.63,
         63.04
        ],
        [
         "BIN_033",
         10,
         99.21,
         11.65,
         69.48
        ],
        [
         "BIN_040",
         10,
         90.07,
         38.34,
         64.0
        ],
        [
         "BIN_028",
         10,
         89.65,
         22.53,
         57.01
        ],
        [
         "BIN_046",
         10,
         92.57,
         10.23,
         44.82
        ],
        [
         "BIN_048",
         10,
         96.47,
         12.45,
         68.58
        ],
        [
         "BIN_036",
         10,
         91.93,
         12.06,
         47.26
        ],
        [
         "BIN_047",
         10,
         94.36,
         21.05,
         60.1
        ],
        [
         "BIN_009",
         10,
         97.84,
         11.66,
         48.65
        ],
        [
         "BIN_034",
         10,
         98.93,
         40.27,
         66.24
        ],
        [
         "BIN_002",
         10,
         98.01,
         28.16,
         59.68
        ],
        [
         "BIN_005",
         10,
         84.03,
         10.46,
         43.24
        ],
        [
         "BIN_010",
         10,
         84.87,
         12.94,
         43.96
        ],
        [
         "BIN_026",
         10,
         94.68,
         10.11,
         48.57
        ],
        [
         "BIN_006",
         10,
         77.55,
         10.1,
         51.5
        ],
        [
         "BIN_012",
         10,
         98.37,
         32.73,
         63.43
        ],
        [
         "BIN_023",
         10,
         99.94,
         18.2,
         63.08
        ],
        [
         "BIN_030",
         10,
         97.72,
         20.96,
         69.69
        ],
        [
         "BIN_015",
         10,
         90.23,
         10.09,
         52.93
        ],
        [
         "BIN_045",
         10,
         83.42,
         10.02,
         49.94
        ],
        [
         "BIN_019",
         10,
         87.82,
         11.1,
         56.84
        ],
        [
         "BIN_024",
         10,
         90.73,
         11.38,
         44.73
        ],
        [
         "BIN_029",
         10,
         98.96,
         19.82,
         60.99
        ],
        [
         "BIN_037",
         10,
         96.08,
         26.0,
         74.64
        ],
        [
         "BIN_042",
         10,
         97.18,
         14.03,
         50.16
        ],
        [
         "BIN_004",
         10,
         89.35,
         13.42,
         44.88
        ],
        [
         "BIN_039",
         10,
         96.11,
         27.74,
         69.04
        ],
        [
         "BIN_027",
         10,
         83.01,
         28.5,
         63.29
        ],
        [
         "BIN_011",
         10,
         81.25,
         16.14,
         48.36
        ],
        [
         "BIN_041",
         10,
         82.07,
         13.31,
         56.43
        ],
        [
         "BIN_007",
         10,
         86.38,
         19.59,
         54.46
        ],
        [
         "BIN_013",
         10,
         95.87,
         24.1,
         48.47
        ],
        [
         "BIN_022",
         10,
         92.07,
         14.64,
         49.27
        ],
        [
         "BIN_018",
         10,
         98.06,
         15.24,
         49.28
        ],
        [
         "BIN_032",
         10,
         97.61,
         29.55,
         74.48
        ],
        [
         "BIN_001",
         10,
         66.54,
         17.46,
         46.4
        ],
        [
         "BIN_050",
         10,
         91.59,
         42.65,
         66.93
        ]
       ],
       "datasetInfos": [
        {
         "name": "_sqldf",
         "schema": {
          "fields": [
           {
            "metadata": {},
            "name": "bin_id",
            "nullable": true,
            "type": "string"
           },
           {
            "metadata": {},
            "name": "total_collections",
            "nullable": false,
            "type": "long"
           },
           {
            "metadata": {},
            "name": "max_fill_level",
            "nullable": true,
            "type": "double"
           },
           {
            "metadata": {},
            "name": "min_fill_level",
            "nullable": true,
            "type": "double"
           },
           {
            "metadata": {},
            "name": "avg_fill_level",
            "nullable": true,
            "type": "double"
           }
          ],
          "type": "struct"
         },
         "tableIdentifier": null,
         "typeStr": "pyspark.sql.connect.dataframe.DataFrame"
        }
       ],
       "dbfsResultPath": null,
       "isJsonSchema": true,
       "metadata": {
        "createTempViewForImplicitDf": true,
        "dataframeName": "_sqldf",
        "executionCount": 24
       },
       "overflow": false,
       "plotOptions": {
        "customPlotOptions": {},
        "displayType": "table",
        "pivotAggregation": null,
        "pivotColumns": null,
        "xColumns": null,
        "yColumns": null
       },
       "removedWidgets": [],
       "schema": [
        {
         "metadata": "{}",
         "name": "bin_id",
         "type": "\"string\""
        },
        {
         "metadata": "{}",
         "name": "total_collections",
         "type": "\"long\""
        },
        {
         "metadata": "{}",
         "name": "max_fill_level",
         "type": "\"double\""
        },
        {
         "metadata": "{}",
         "name": "min_fill_level",
         "type": "\"double\""
        },
        {
         "metadata": "{}",
         "name": "avg_fill_level",
         "type": "\"double\""
        }
       ],
       "type": "table"
      }
     },
     "output_type": "display_data"
    }
   ],
   "source": [
    "CREATE OR REPLACE VIEW workspace.silver.bin_collection_summary AS\n",
    "SELECT\n",
    "  bin_id,\n",
    "  COUNT(*) AS total_collections,\n",
    "  MAX(fill_level_percent) AS max_fill_level,\n",
    "  MIN(fill_level_percent) AS min_fill_level,\n",
    "  ROUND(AVG(fill_level_percent), 2) AS avg_fill_level\n",
    "FROM silver.collection_logs\n",
    "GROUP BY bin_id;\n",
    "SELECT * FROM workspace.silver.bin_collection_summary;"
   ]
  }
 ],
 "metadata": {
  "application/vnd.databricks.v1+notebook": {
   "computePreferences": null,
   "dashboards": [],
   "environmentMetadata": {
    "base_environment": "",
    "environment_version": "2"
   },
   "inputWidgetPreferences": null,
   "language": "sql",
   "notebookMetadata": {
    "pythonIndentUnit": 4
   },
   "notebookName": "project SQL gold",
   "widgets": {}
  },
  "language_info": {
   "name": "sql"
  }
 },
 "nbformat": 4,
 "nbformat_minor": 0
}